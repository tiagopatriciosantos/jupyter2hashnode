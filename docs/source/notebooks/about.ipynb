{
 "cells": [
  {
   "cell_type": "markdown",
   "metadata": {},
   "source": [
    "# About\n",
    "\n",
    "\n",
    "## About Hashnode\n",
    "https://hashnode.com/\n",
    "\n",
    "Citations from Hashnode:\n",
    "\n",
    "> Helping developers, and people in tech connect and share knowledge easily!\n",
    "> Hassle-free blogging and community experience for the creators of tomorrow.\n",
    "\n",
    "> Hashnode is a Free Medium Alternative for Developers!\n",
    "> Medium was simply not built with the tech industry in mind.\n",
    "\n",
    "> Hashnode was created to meet the needs of developers who want to plug into the global dev community while retaining ownership of their content on their own custom domains.\n",
    "\n",
    "> And we will never, ever make your audience pay us for access to your articles.\n",
    "\n",
    "## About Jupyter2Hashnode\n",
    "\n",
    "As a data scientist, I aim to publish and share my work with others. I have recently started exploring Medium as a platform for sharing my work due to its popularity among many users. However, I soon realized that Medium does not support tables, which are a crucial component of many of my Jupyter notebooks.\n",
    "\n",
    "As a result, I had to look for alternative platforms, and I discovered Hashnode. It offers a powerful editor that supports markdown text, including tables, and it provides a convenient Amazon AWS S3 bucket for uploading images. Hashnode also has an API that can be used to create blog articles.\n",
    "\n",
    "Given the ability to export a Jupyter Notebook as a markdown file, I decided to create a tool called Jupyter2Hashnode. This tool simplifies the process of converting Jupyter Notebooks into Hashnode stories by compressing images, uploading them to the Hashnode server, updating image URLs in the markdown file, and finally, publishing the story article with a single command.\n",
    "\n",
    "In conclusion, Jupyter2Hashnode is a useful tool for converting Jupyter Notebooks into Hashnode stories by simplifying the process of compressing images, uploading images, and publishing the story article."
   ]
  },
  {
   "cell_type": "code",
   "execution_count": null,
   "metadata": {},
   "outputs": [],
   "source": []
  },
  {
   "cell_type": "code",
   "execution_count": null,
   "metadata": {},
   "outputs": [],
   "source": []
  }
 ],
 "metadata": {
  "kernelspec": {
   "display_name": "Python 3 (ipykernel)",
   "language": "python",
   "name": "python3"
  },
  "language_info": {
   "codemirror_mode": {
    "name": "ipython",
    "version": 3
   },
   "file_extension": ".py",
   "mimetype": "text/x-python",
   "name": "python",
   "nbconvert_exporter": "python",
   "pygments_lexer": "ipython3",
   "version": "3.9.2"
  },
  "varInspector": {
   "cols": {
    "lenName": 16,
    "lenType": 16,
    "lenVar": 40
   },
   "kernels_config": {
    "python": {
     "delete_cmd_postfix": "",
     "delete_cmd_prefix": "del ",
     "library": "var_list.py",
     "varRefreshCmd": "print(var_dic_list())"
    },
    "r": {
     "delete_cmd_postfix": ") ",
     "delete_cmd_prefix": "rm(",
     "library": "var_list.r",
     "varRefreshCmd": "cat(var_dic_list()) "
    }
   },
   "types_to_exclude": [
    "module",
    "function",
    "builtin_function_or_method",
    "instance",
    "_Feature"
   ],
   "window_display": false
  },
  "vscode": {
   "interpreter": {
    "hash": "75b906f8d85f7ce9b8321ed60bcaa6dcc9b1be4686af2c1dea1cc95e6ffeca2c"
   }
  }
 },
 "nbformat": 4,
 "nbformat_minor": 2
}
