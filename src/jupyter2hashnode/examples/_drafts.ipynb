{
 "cells": [
  {
   "cell_type": "markdown",
   "metadata": {},
   "source": [
    "Publishing Jupyter Notebooks with Jupyter2Hashnode\n",
    "\n",
    "Are you a data scientist looking for an easy way to share your work with the world? If you're like me, you may have tried using Medium as a platform, only to realize that it doesn't support tables - a crucial component of many Jupyter notebooks. Fortunately, I discovered Hashnode - a free, Medium alternative that was specifically built for the tech industry.\n",
    "\n",
    "Hashnode offers a powerful editor that supports markdown text, including tables, and it provides a convenient Amazon AWS S3 bucket for uploading images. Plus, it has an API that can be used to create blog articles, making it a great platform for data scientists.\n",
    "\n",
    "To simplify the process of publishing Jupyter notebooks on Hashnode, I created Jupyter2Hashnode - a tool that converts Jupyter notebooks into Hashnode stories with just one command. The tool compresses images, uploads them to the Hashnode server, updates image URLs in the markdown file, and finally, publishes the story article.\n",
    "\n",
    "Getting started with Jupyter2Hashnode is simple. First, you need to create a Python environment and install the jupyter2hashnode package. Then, you need to obtain your JWT token, Hashnode API token, and Publication ID. This information can be obtained through the Hashnode website, and once you have it, you can set it as an environment variable or pass it when calling the jupyter2hashnode command.\n",
    "\n",
    "Jupyter2Hashnode is a command-line tool that converts your Jupyter Notebook to a Hashnode publication story. You simply specify the notebook file name or path, and Jupyter2Hashnode takes care of the rest. You can also specify the title of your article, the author name, and other details, making it easy to customize your story.\n",
    "\n",
    "In conclusion, Jupyter2Hashnode is a powerful tool that simplifies the process of sharing your data science work on Hashnode. With its easy setup, intuitive usage, and convenient features, Jupyter2Hashnode makes it easier than ever to share your work with the world.\n"
   ]
  },
  {
   "cell_type": "markdown",
   "metadata": {},
   "source": [
    "The Power of Jupyter2Hashnode: Simplifying the Process of Sharing Your Jupyter Notebooks Work on Hashnode\n",
    "\n",
    "As a data scientist, sharing your work with others is a critical aspect of your job. You want to share your findings, insights, and models with the world. But finding the right platform to do so can be challenging, especially when you have a lot of technical details to share.\n",
    "\n",
    "This is where Hashnode comes in. Hashnode is a free Medium alternative that was specifically built for developers and people in tech. It offers a hassle-free blogging and community experience, making it an ideal platform for data scientists to share their work.\n",
    "\n",
    "But what if you want to share a Jupyter Notebook, which is an essential tool for data scientists? Jupyter Notebooks contain tables, images, and code, all of which are important components of your work. Unfortunately, Medium does not support tables, making it difficult to share your work in its full form.\n",
    "\n",
    "This is where Jupyter2Hashnode comes in. Jupyter2Hashnode is a tool that simplifies the process of converting Jupyter Notebooks into Hashnode stories. With Jupyter2Hashnode, you can compress images, upload them to the Hashnode server, update image URLs in the markdown file, and publish the story article with a single command.\n",
    "\n",
    "Getting started with Jupyter2Hashnode is simple. First, you need to create a Python environment and install the jupyter2hashnode package. Then, you need to obtain your JWT token, Hashnode API token, and Publication ID. This information can be obtained through the Hashnode website, and once you have it, you can set it as an environment variable or pass it when calling the jupyter2hashnode command.\n",
    "\n",
    "Jupyter2Hashnode is a command-line tool that converts your Jupyter Notebook to a Hashnode publication story. You simply specify the notebook file name or path, and Jupyter2Hashnode takes care of the rest. You can also specify the title of your article, the author name, and other details, making it easy to customize your story.\n",
    "\n",
    "\n",
    "The steps to publish a Jupyter notebook to Hashnode using a virtual environment are:\n",
    "\n",
    "Create a project folder and a virtual environment (venv) folder within:\n",
    "macOS/Linux: $ mkdir myproject; cd myproject; python3 -m venv venv\n",
    "Windows: > mkdir myproject; cd myproject; py -3 -m venv venv\n",
    "Activate the environment:\n",
    "macOS/Linux: $ . venv/bin/activate\n",
    "Windows: > venv\\Scripts\\activate\n",
    "Examples are provided in the .venv/Lib/site-packages/jupyter2hashnode/examples folder.\n",
    "Publish the story, for example example.ipynb: $ python3 -m jupyter2hashnode .\\.venv\\Lib\\site-packages\\jupyter2hashnode\\examples\\example.ipynb\n",
    "If environment variables are not set, you can pass the token as an option: $ python3 -m jupyter2hashnode .\\.venv\\Lib\\site-packages\\jupyter2hashnode\\examples\\example.ipynb --token \"<your_token>\"\n",
    "Provide the article title when prompted: Article title: My published example\n",
    "The script will convert the Jupyter notebook to a markdown file, compress and upload the images to Hashnode's AWS bucket, replace the local image paths in the markdown file with the image URLs, and upload the markdown text to Hashnode.\n",
    "The output will show the URL of the published article: Result [200]: Publication article created successfully; Hashnode Post URL: https://hashnode.com/edit/clduiv6op0174d...\n",
    "To make the article visible, edit it on Hashnode, uncheck the option to hide it, and update the article.\n",
    "\n",
    "\n",
    "\n",
    "In conclusion, Jupyter2Hashnode is a powerful tool that simplifies the process of sharing your data science work on Hashnode. With its easy setup, intuitive usage, and convenient features, Jupyter2Hashnode makes it easier than ever to share your work with the world."
   ]
  }
 ],
 "metadata": {
  "kernelspec": {
   "display_name": "Python 3 (ipykernel)",
   "language": "python",
   "name": "python3"
  },
  "language_info": {
   "codemirror_mode": {
    "name": "ipython",
    "version": 3
   },
   "file_extension": ".py",
   "mimetype": "text/x-python",
   "name": "python",
   "nbconvert_exporter": "python",
   "pygments_lexer": "ipython3",
   "version": "3.9.2"
  },
  "varInspector": {
   "cols": {
    "lenName": 16,
    "lenType": 16,
    "lenVar": 40
   },
   "kernels_config": {
    "python": {
     "delete_cmd_postfix": "",
     "delete_cmd_prefix": "del ",
     "library": "var_list.py",
     "varRefreshCmd": "print(var_dic_list())"
    },
    "r": {
     "delete_cmd_postfix": ") ",
     "delete_cmd_prefix": "rm(",
     "library": "var_list.r",
     "varRefreshCmd": "cat(var_dic_list()) "
    }
   },
   "types_to_exclude": [
    "module",
    "function",
    "builtin_function_or_method",
    "instance",
    "_Feature"
   ],
   "window_display": false
  }
 },
 "nbformat": 4,
 "nbformat_minor": 2
}
