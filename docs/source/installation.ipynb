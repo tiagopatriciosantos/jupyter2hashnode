{
 "cells": [
  {
   "attachments": {},
   "cell_type": "markdown",
   "metadata": {},
   "source": [
    "# Installation\n",
    "\n",
    "You can always get the newest `jupyter2hashnode` release from [PyPI](https://pypi.org/project/jupyter2hashnode) (using `pip`).\n",
    "\n",
    "\n",
    "## `jupyter2hashnode` Package\n",
    "\n",
    "[![PyPI version](https://badge.fury.io/py/jupyter2hashnode.svg)](https://badge.fury.io/py/jupyter2hashnode)\n",
    "\n",
    "Install `jupyter2hashnode` with `pip`:\n",
    "\n",
    "```python\n",
    "python3 -m pip install jupyter2hashnode\n",
    "```\n",
    "\n",
    "Depending on your Python installation,\n",
    "you may have to use `python` instead of `python3`.\n",
    "If you have installed the module already,\n",
    "you can use the `--upgrade` flag to get the newest release.\n"
   ]
  },
  {
   "attachments": {},
   "cell_type": "markdown",
   "metadata": {},
   "source": [
    "## `jupyter2hashnode` Prerequisites\n",
    "\n",
    "Some of the aforementioned packages will install some of these prerequisites automatically, some of the things may be already installed on your computer anyway.\n",
    "\n",
    "### Python\n",
    "\n",
    "Of course you'll need Python, because `jupyter2hashnode` are implemented in Python.\n",
    "There are many ways to get Python.\n",
    "If you don't know which one is best for you, you can try [Anaconda](https://www.anaconda.com/products/individual#Downloads).\n",
    "\n",
    "### pip\n",
    "\n",
    "Recent versions of Python already come with `pip` pre-installed.\n",
    "If you don't have it, you can [install it manually](https://pip.pypa.io/en/latest/installing/).\n",
    "\n",
    "### nbconvert\n",
    "\n",
    "The [nbconvert](https://nbconvert.readthedocs.io/en/latest/) is used to convert the notebook to Markdown content. It will be installed with the `jupyter2hashnode` package by default.\n",
    "\n",
    "If that doesn't work out, have a look at `nbconvert`'s [installation instructions](https://nbconvert.readthedocs.io/en/latest/install.html).\n",
    " \n",
    "### Pillow\n",
    "\n",
    "\n",
    "The [Pillow](https://pillow.readthedocs.io/en/stable/) is used to compress images before upload them. It will be installed with the `jupyter2hashnode` package by default.\n",
    "\n",
    "If that doesn't work out, have a look at `Pillow`'s [installation instructions](https://pillow.readthedocs.io/en/stable/installation.html).\n",
    "\n",
    "\n"
   ]
  },
  {
   "cell_type": "markdown",
   "metadata": {},
   "source": []
  }
 ],
 "metadata": {
  "kernelspec": {
   "display_name": ".venv",
   "language": "python",
   "name": "python3"
  },
  "language_info": {
   "codemirror_mode": {
    "name": "ipython",
    "version": 3
   },
   "file_extension": ".py",
   "mimetype": "text/x-python",
   "name": "python",
   "nbconvert_exporter": "python",
   "pygments_lexer": "ipython3",
   "version": "3.9.2 (tags/v3.9.2:1a79785, Feb 19 2021, 13:44:55) [MSC v.1928 64 bit (AMD64)]"
  },
  "vscode": {
   "interpreter": {
    "hash": "75b906f8d85f7ce9b8321ed60bcaa6dcc9b1be4686af2c1dea1cc95e6ffeca2c"
   }
  }
 },
 "nbformat": 4,
 "nbformat_minor": 4
}
