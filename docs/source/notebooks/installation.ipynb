{
 "cells": [
  {
   "attachments": {},
   "cell_type": "markdown",
   "metadata": {},
   "source": [
    "# Installation\n",
    "\n",
    "[![PyPI version](https://badge.fury.io/py/jupyter2hashnode.svg)](https://badge.fury.io/py/jupyter2hashnode)\n",
    "\n",
    "## Prerequisites\n",
    "\n",
    "### Python\n",
    "\n",
    "There are many ways to get Python.\n",
    "If you don't know which one is best for you, you can try [Anaconda](https://www.anaconda.com/products/individual#Downloads).\n",
    "\n",
    "### pip\n",
    "\n",
    "Recent versions of Python already come with `pip` pre-installed.\n",
    "If you don't have it, you can [install it manually](https://pip.pypa.io/en/latest/installing/).\n",
    "\n",
    "### Virtual environments\n",
    "Use a virtual environment to manage the dependencies for your project, both in development and in production.\n",
    "\n",
    "What problem does a virtual environment solve? The more Python projects you have, the more likely it is that you need to work with different versions of Python libraries, or even Python itself. Newer versions of libraries for one project can break compatibility in another project.\n",
    "\n",
    "Virtual environments are independent groups of Python libraries, one for each project. Packages installed for one project will not affect other projects or the operating system’s packages.\n",
    "\n",
    "Python comes bundled with the venv module to create virtual environments.\n",
    "\n",
    "Create an environment\n",
    "Create a project folder and a venv folder within:\n",
    "\n",
    "**macOS/Linux:**\n",
    "```bash\n",
    "    $ mkdir myproject\n",
    "    $ cd myproject\n",
    "    $ python3 -m venv venv\n",
    "```\n",
    "\n",
    "**Windows:**\n",
    "```powershell\n",
    "    > mkdir myproject\n",
    "    > cd myproject\n",
    "    > py -3 -m venv venv\n",
    "```\n",
    "\n",
    "Activate the environment\n",
    "Before you work on your project, activate the corresponding environment:\n",
    "\n",
    "**macOS/Linux:**\n",
    "```bash\n",
    "    $ . venv/bin/activate\n",
    "```\n",
    "\n",
    "\n",
    "**Windows:**\n",
    "```powershell\n",
    "    > venv\\Scripts\\activate\n",
    "```\n"
   ]
  },
  {
   "attachments": {},
   "cell_type": "markdown",
   "metadata": {},
   "source": [
    "## `jupyter2hashnode`\n",
    "\n",
    "Install `jupyter2hashnode` with `pip`:\n",
    "\n",
    "```bash\n",
    "    $ pip install jupyter2hashnode\n",
    "```\n",
    "\n",
    "Depending on your Python installation, you may have to use `python` instead of `python3`.\n",
    "If you have installed the module already, you can use the `--upgrade` flag to get the newest release.\n"
   ]
  },
  {
   "attachments": {},
   "cell_type": "markdown",
   "metadata": {},
   "source": [
    "## Other Prerequisites\n",
    "\n",
    "This prerequisites will be installed automatically when installing the `jupiter2hashnode` package.\n",
    "\n",
    "\n",
    "### nbconvert\n",
    "\n",
    "The [nbconvert](https://nbconvert.readthedocs.io/en/latest/) is used to convert the notebook to Markdown content. It will be installed with the `jupyter2hashnode` package by default.\n",
    "\n",
    "If not installed by default have a look at `nbconvert`'s [installation instructions](https://nbconvert.readthedocs.io/en/latest/install.html).\n",
    " \n",
    "### Pillow\n",
    "\n",
    "\n",
    "The [Pillow](https://pillow.readthedocs.io/en/stable/) is used to compress images before upload them. It will be installed with the `jupyter2hashnode` package by default.\n",
    "\n",
    "If not installed by default have a look at `Pillow`'s [installation instructions](https://pillow.readthedocs.io/en/stable/installation.html).\n",
    "\n",
    "\n"
   ]
  }
 ],
 "metadata": {
  "kernelspec": {
   "display_name": "Python 3 (ipykernel)",
   "language": "python",
   "name": "python3"
  },
  "language_info": {
   "codemirror_mode": {
    "name": "ipython",
    "version": 3
   },
   "file_extension": ".py",
   "mimetype": "text/x-python",
   "name": "python",
   "nbconvert_exporter": "python",
   "pygments_lexer": "ipython3",
   "version": "3.9.2 (tags/v3.9.2:1a79785, Feb 19 2021, 13:44:55) [MSC v.1928 64 bit (AMD64)]"
  },
  "varInspector": {
   "cols": {
    "lenName": 16,
    "lenType": 16,
    "lenVar": 40
   },
   "kernels_config": {
    "python": {
     "delete_cmd_postfix": "",
     "delete_cmd_prefix": "del ",
     "library": "var_list.py",
     "varRefreshCmd": "print(var_dic_list())"
    },
    "r": {
     "delete_cmd_postfix": ") ",
     "delete_cmd_prefix": "rm(",
     "library": "var_list.r",
     "varRefreshCmd": "cat(var_dic_list()) "
    }
   },
   "types_to_exclude": [
    "module",
    "function",
    "builtin_function_or_method",
    "instance",
    "_Feature"
   ],
   "window_display": false
  },
  "vscode": {
   "interpreter": {
    "hash": "75b906f8d85f7ce9b8321ed60bcaa6dcc9b1be4686af2c1dea1cc95e6ffeca2c"
   }
  }
 },
 "nbformat": 4,
 "nbformat_minor": 4
}
