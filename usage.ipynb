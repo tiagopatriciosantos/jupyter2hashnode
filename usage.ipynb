{
 "cells": [
  {
   "cell_type": "markdown",
   "metadata": {
    "nbsphinx": "hidden"
   },
   "source": [
    "This notebook is part of the `jupyter2hashnode` documentation: https://jupyter2hashnode.readthedocs.io/."
   ]
  },
  {
   "cell_type": "markdown",
   "metadata": {},
   "source": [
    "# Usage"
   ]
  },
  {
   "cell_type": "markdown",
   "metadata": {},
   "source": [
    "## Setup\n",
    "\n",
    "First is necessary to get the JWT token, Hashnode Api Token and the Publication ID.\n",
    "\n",
    "#### JWT\n",
    "To obtain JWT: \n",
    "1. Open https://hashnode.com, your account must be logged in\n",
    "2. Open DevTools of chrome browser (F12)\n",
    "3. Go to Application tab, go to Cookies, find and copy value of \"jwt\" cookie (245 characters)\n",
    "\n",
    "<details>\n",
    "    <summary>-&gt; HASHNODE_JWT setting environment variable</summary>\n",
    "    <ul>\n",
    "        <li>\n",
    "            <dl>\n",
    "                <dt>Bash</dt>\n",
    "                <dd>\n",
    "                    <code>&#36; export HASHNODE_JWT=&lt;your_jwt&gt;</code>\n",
    "                </dd>\n",
    "            </dl>\n",
    "        </li>\n",
    "        <li>\n",
    "            <dl>\n",
    "                <dt>CMD</dt>\n",
    "                <dd>\n",
    "                    <code>set HASHNODE_JWT=&lt;your_jwt&gt;</code>\n",
    "                </dd>\n",
    "            </dl>\n",
    "        </li>\n",
    "        <li>\n",
    "            <dl>\n",
    "                <dt>Powershell</dt>\n",
    "                <dd>\n",
    "                    <code>&#36;env:HASHNODE_JWT=\"&lt;your_jwt&gt;\"</code>\n",
    "                </dd>\n",
    "            </dl>\n",
    "        </li>\n",
    "    </ul>\n",
    "</details>\n",
    "\n",
    "<img src=\"images/Hashnode_-_Google_Chrome_0221.png\" width=\"700\" >\n",
    "\n",
    "\n",
    "\n",
    "\n",
    "\n",
    "#### API\n",
    "To obtain Hashnode API token: \n",
    "1. Open https://hashnode.com/settings/developer\n",
    "2. Click on \"Generate New Token\" button or use the existing one\n",
    "\n",
    "\n",
    "<details>\n",
    "    <summary>-&gt; HASHNODE_TOKEN setting environment variable</summary>\n",
    "    <ul>\n",
    "        <li>\n",
    "            <dl>\n",
    "                <dt>Bash</dt>\n",
    "                <dd>\n",
    "                    <code>&#36 export HASHNODE_TOKEN=&lt;your_token&gt;</code>\n",
    "                </dd>\n",
    "            </dl>\n",
    "        </li>\n",
    "        <li>\n",
    "            <dl>\n",
    "                <dt>CMD</dt>\n",
    "                <dd>\n",
    "                    <code>set HASHNODE_TOKEN=&lt;your_token&gt;</code>\n",
    "                </dd>\n",
    "            </dl>\n",
    "        </li>\n",
    "        <li>\n",
    "            <dl>\n",
    "                <dt>Powershell</dt>\n",
    "                <dd>\n",
    "                    <code>&#36;env:HASHNODE_TOKEN=\"&lt;your_token&gt;\"</code>\n",
    "                </dd>\n",
    "            </dl>\n",
    "        </li>\n",
    "    </ul>\n",
    "</details>\n",
    "\n",
    "<img src=\"images/Developer_Settings_-_Hashnode_-_Google_Chrome_0223.png\" width=\"600\" >\n",
    "\n",
    "\n",
    "#### Publication ID\n",
    "To obtain Publication ID: \n",
    "1. Go to https://hashnode.com/settings/blogs\n",
    "2. Click \"Dashboard\" of the blog you want to upload to\n",
    "3, Copy the ID, e.g. https://hashnode.com/&lt;id&gt;/dashboard\n",
    "\n",
    "\n",
    "\n",
    "<details>\n",
    "    <summary>-&gt; HASHNODE_PUBLICATION_ID setting environment variable</summary>\n",
    "    <ul>\n",
    "        <li>\n",
    "            <dl>\n",
    "                <dt>Bash</dt>\n",
    "                <dd>\n",
    "                    <code>&#36; export HASHNODE_PUBLICATION_ID=&lt;your_id&gt;</code>\n",
    "                </dd>\n",
    "            </dl>\n",
    "        </li>\n",
    "        <li>\n",
    "            <dl>\n",
    "                <dt>CMD</dt>\n",
    "                <dd>\n",
    "                    <code>set HASHNODE_PUBLICATION_ID=&lt;your_id&gt;</code>\n",
    "                </dd>\n",
    "            </dl>\n",
    "        </li>\n",
    "        <li>\n",
    "            <dl>\n",
    "                <dt>Powershell</dt>\n",
    "                <dd>\n",
    "                    <code>&#36;env:HASHNODE_PUBLICATION_ID=\"&lt;your_id&gt;\"</code>\n",
    "                </dd>\n",
    "            </dl>\n",
    "        </li>\n",
    "    </ul>\n",
    "</details>\n",
    "\n",
    "<img src=\"images/Dashboard_-_Hashnode_-_Google_Chrome_0223.png\" width=\"600\" >\n",
    "\n",
    "\n",
    "<b>NOTE:</b>\n",
    "We can set jwt, token and publication id values using environment variables or passing them when calling the `jupyter2hashnode` command.\n",
    "\n",
    "\n",
    "\n"
   ]
  },
  {
   "cell_type": "markdown",
   "metadata": {},
   "source": [
    "## Using as a command line tool\n",
    "\n",
    "Running the help command:\n",
    "<code>py -m jupyter2hashnode --help</code>\n",
    "\n",
    "<img src=\"command01_-_jupytyer2hashnode_-_Visu_0225.png\" width=\"600\" >\n",
    "\n",
    "\n",
    "Checking the version:\n",
    "<code>py -m jupyter2hashnode -v/code>\n",
    "\n",
    "\n",
    "\n",
    "The command-line syntax to run the jupyter2hashnode script is:\n",
    "\n",
    "<code>$ python3 -m jupyter2hashnode notebook.ipynb</code>\n",
    "\n",
    "Executing this command it will ask for the Article title.\n",
    "This will export the Jupyter notebook file notebook.ipynb into a markdown file and export all images, the images will be compressed and uploaded to the address https://hashnode.com/api/upload-image, Hashnode s3 amazon AWS bucket, that will generete the correspondent urls for the images. The local path of the images in the markdown file  will be replaced by the urls generated and then all the markdown text will be uploaded into a Hashnode Article.\n",
    "\n",
    "\n",
    "\n",
    "\n",
    "\n",
    "### Example 1\n",
    "\n",
    "\n",
    "\n",
    "### Example 2\n",
    "\n",
    "### Example 3\n",
    "\n"
   ]
  },
  {
   "cell_type": "markdown",
   "metadata": {},
   "source": [
    "## Using as a library"
   ]
  },
  {
   "cell_type": "markdown",
   "metadata": {},
   "source": []
  },
  {
   "cell_type": "markdown",
   "metadata": {},
   "source": [
    "\n",
    "\n"
   ]
  },
  {
   "cell_type": "code",
   "execution_count": null,
   "metadata": {},
   "outputs": [],
   "source": []
  }
 ],
 "metadata": {
  "kernelspec": {
   "display_name": "Python 3 (ipykernel)",
   "language": "python",
   "name": "python3"
  },
  "language_info": {
   "codemirror_mode": {
    "name": "ipython",
    "version": 3
   },
   "file_extension": ".py",
   "mimetype": "text/x-python",
   "name": "python",
   "nbconvert_exporter": "python",
   "pygments_lexer": "ipython3",
   "version": "3.9.2"
  },
  "varInspector": {
   "cols": {
    "lenName": 16,
    "lenType": 16,
    "lenVar": 40
   },
   "kernels_config": {
    "python": {
     "delete_cmd_postfix": "",
     "delete_cmd_prefix": "del ",
     "library": "var_list.py",
     "varRefreshCmd": "print(var_dic_list())"
    },
    "r": {
     "delete_cmd_postfix": ") ",
     "delete_cmd_prefix": "rm(",
     "library": "var_list.r",
     "varRefreshCmd": "cat(var_dic_list()) "
    }
   },
   "types_to_exclude": [
    "module",
    "function",
    "builtin_function_or_method",
    "instance",
    "_Feature"
   ],
   "window_display": false
  },
  "vscode": {
   "interpreter": {
    "hash": "75b906f8d85f7ce9b8321ed60bcaa6dcc9b1be4686af2c1dea1cc95e6ffeca2c"
   }
  }
 },
 "nbformat": 4,
 "nbformat_minor": 4
}
